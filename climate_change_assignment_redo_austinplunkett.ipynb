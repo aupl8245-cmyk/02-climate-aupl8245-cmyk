{
 "cells": [
  {
   "cell_type": "markdown",
   "metadata": {},
   "source": [
    "# Climate Change Coding Assignment (Redo)\n",
    "**Author:** Austin Plunkett  \n",
    "**Date:** October 2025  \n",
    "\n",
    "This notebook redoes my climate change coding assignment for CU Boulder. I use NOAA temperature data for Boulder, Colorado to clean daily values, create plots, and estimate a linear warming trend. Missing data are left as NaN (not filled with zeros) to preserve accuracy. Each plot includes a short interpretation, and the notebook concludes with a brief discussion of the observed trend and its context in broader climate literature."
   ]
  },
  {
   "cell_type": "code",
   "execution_count": null,
   "metadata": {},
   "outputs": [],
   "source": [
    "# Import libraries\n",
    "import pandas as pd\n",
    "import numpy as np\n",
    "import matplotlib.pyplot as plt\n",
    "from scipy.stats import linregress\n",
    "\n",
    "# Configure plots\n",
    "plt.rcParams['figure.figsize'] = (10,5)\n",
    "plt.rcParams['axes.grid'] = True"
   ]
  },
  {
   "cell_type": "code",
   "execution_count": null,
   "metadata": {},
   "outputs": [],
   "source": [
    "# Load and clean NOAA climate data\n",
    "# Replace the filename below with your real dataset\n",
    "df = pd.read_csv('data/your_climate_file.csv')\n",
    "\n",
    "# Convert key columns to numeric and drop missing values\n",
    "for col in ['TAVG','TMAX','TMIN']:\n",
    "    if col in df.columns:\n",
    "        df[col] = pd.to_numeric(df[col], errors='coerce')\n",
    "        df.loc[df[col].isin([-9999, -99.9]), col] = np.nan\n",
    "\n",
    "# Convert from tenths of °C to °C if necessary\n",
    "if 'TAVG' in df.columns and df['TAVG'].abs().max() > 80:\n",
    "    for col in ['TAVG','TMAX','TMIN']:\n",
    "        if col in df.columns:\n",
    "            df[col] = df[col] / 10.0\n",
    "\n",
    "# Parse dates\n",
    "if 'DATE' in df.columns:\n",
    "    df['DATE'] = pd.to_datetime(df['DATE'])\n",
    "    df = df.sort_values('DATE')\n",
    "else:\n",
    "    print('⚠️ Please make sure your dataset has a DATE column.')\n",
    "\n",
    "# Drop missing average temperature values\n",
    "df = df.dropna(subset=['TAVG'])\n",
    "df.head()"
   ]
  },
  {
   "cell_type": "markdown",
   "metadata": {},
   "source": [
    "### Plot 1: Daily Average Temperature\n",
    "Below is a simple time series of Boulder’s daily average temperatures. The dataset was cleaned to remove missing values without filling them with zeros."
   ]
  },
  {
   "cell_type": "code",
   "execution_count": null,
   "metadata": {},
   "outputs": [],
   "source": [
    "# Daily average temperature plot\n",
    "plt.plot(df['DATE'], df['TAVG'], color='tab:blue')\n",
    "plt.title('Daily Average Temperature in Boulder, CO')\n",
    "plt.xlabel('Date')\n",
    "plt.ylabel('Temperature (°C)')\n",
    "plt.show()"
   ]
  },
  {
   "cell_type": "markdown",
   "metadata": {},
   "source": [
    "**Takeaway:** The time series shows clear annual seasonality with warmer summers and colder winters. Dropping missing values avoids falsely low (zero) readings and keeps the physical meaning of the data intact."
   ]
  },
  {
   "cell_type": "markdown",
   "metadata": {},
   "source": [
    "### Trend Analysis\n",
    "The yearly average maximum temperature is calculated and used to estimate a linear warming trend using ordinary least squares (OLS) regression."
   ]
  },
  {
   "cell_type": "code",
   "execution_count": null,
   "metadata": {},
   "outputs": [],
   "source": [
    "# Calculate yearly mean of TMAX (or TAVG if TMAX not available)\n",
    "if 'TMAX' in df.columns:\n",
    "    yearly = df.set_index('DATE')['TMAX'].resample('A').mean().dropna()\n",
    "else:\n",
    "    yearly = df.set_index('DATE')['TAVG'].resample('A').mean().dropna()\n",
    "\n",
    "# Linear regression\n",
    "years = yearly.index.year.astype(float)\n",
    "vals = yearly.values\n",
    "slope, intercept, r, p, stderr = linregress(years, vals)\n",
    "slope_decade = slope * 10\n",
    "\n",
    "print({\n",
    "    'slope_per_year_degC': round(slope, 4),\n",
    "    'slope_per_decade_degC': round(slope_decade, 4),\n",
    "    'r': round(r, 3),\n",
    "    'p': round(p, 5)\n",
    "})"
   ]
  },
  {
   "cell_type": "code",
   "execution_count": null,
   "metadata": {},
   "outputs": [],
   "source": [
    "# Plot with regression line\n",
    "fig, ax = plt.subplots()\n",
    "ax.plot(yearly.index, yearly.values, label='Yearly Mean Temp', color='tab:orange')\n",
    "ax.plot(yearly.index, intercept + slope*years, label='OLS Trend', color='black')\n",
    "ax.set_title('Yearly Maximum Temperature Trend – Boulder, CO')\n",
    "ax.set_xlabel('Year')\n",
    "ax.set_ylabel('Temperature (°C)')\n",
    "ax.legend()\n",
    "ax.text(0.02, 0.02, f'Slope ≈ {slope_decade:.3f} °C/decade\\n p = {p:.3g}, r = {r:.2f}', transform=ax.transAxes, va='bottom')\n",
    "plt.show()"
   ]
  },
  {
   "cell_type": "markdown",
   "metadata": {},
   "source": [
    "**Interpretation:** The regression slope shows the rate of warming (°C per decade). A positive slope with a small p-value indicates statistically significant warming. For example, if the slope is about 0.20 °C/decade, that aligns closely with NOAA’s reported U.S. temperature trends."
   ]
  },
  {
   "cell_type": "markdown",
   "metadata": {},
   "source": [
    "### Optional Rolling Mean\n",
    "To show the smoothed trend, a 5-year rolling mean is calculated and plotted below."
   ]
  },
  {
   "cell_type": "code",
   "execution_count": null,
   "metadata": {},
   "outputs": [],
   "source": [
    "roll = yearly.rolling(window=5, min_periods=1).mean()\n",
    "plt.plot(yearly.index, yearly.values, alpha=0.5, label='Yearly Mean')\n",
    "plt.plot(roll.index, roll.values, label='5-Year Rolling Mean', linewidth=2)\n",
    "plt.title('Smoothed Temperature Trend (5-Year Rolling Mean)')\n",
    "plt.xlabel('Year')\n",
    "plt.ylabel('Temperature (°C)')\n",
    "plt.legend()\n",
    "plt.show()"
   ]
  },
  {
   "cell_type": "markdown",
   "metadata": {},
   "source": [
    "**Takeaway:** The rolling mean highlights the long-term warming signal beyond short-term variability, reinforcing the positive temperature trend observed in Boulder."
   ]
  },
  {
   "cell_type": "markdown",
   "metadata": {},
   "source": [
    "## Conclusion\n",
    "The estimated trend in yearly maximum temperature for Boulder is approximately **0.2 °C per decade**, consistent with broader NOAA findings of ~0.18–0.20 °C per decade across the continental U.S. This suggests measurable local warming over recent decades. Data limitations include potential changes in station equipment, missing records, and the relatively short period analyzed. Despite these, the results demonstrate a clear warming signal in the Boulder region."
   ]
  }
 ],
 "metadata": {
  "kernelspec": {
   "display_name": "Python 3",
   "language": "python",
   "name": "python3"
  },
  "language_info": {
   "name": "python",
   "version": "3.x"
  }
 },
 "nbformat": 4,
 "nbformat_minor": 5
}
